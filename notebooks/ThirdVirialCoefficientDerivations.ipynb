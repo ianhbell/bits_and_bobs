{
 "cells": [
  {
   "cell_type": "markdown",
   "metadata": {},
   "source": [
    "# Third virial coefficients"
   ]
  },
  {
   "cell_type": "code",
   "execution_count": 2,
   "metadata": {},
   "outputs": [],
   "source": [
    "import sympy as sy\n",
    "n,d,delta,tau,t,C,l = sy.symbols('n,d,delta,tau,t,C,l')"
   ]
  },
  {
   "cell_type": "markdown",
   "metadata": {},
   "source": [
    "## \"Polynomial\" term"
   ]
  },
  {
   "cell_type": "code",
   "execution_count": 5,
   "metadata": {},
   "outputs": [
    {
     "data": {
      "text/latex": [
       "$\\displaystyle C \\delta^{d}$"
      ],
      "text/plain": [
       "C*delta**d"
      ]
     },
     "metadata": {},
     "output_type": "display_data"
    },
    {
     "data": {
      "text/latex": [
       "$\\displaystyle C d \\delta^{d - 2} \\left(d - 1\\right)$"
      ],
      "text/plain": [
       "C*d*delta**(d - 2)*(d - 1)"
      ]
     },
     "execution_count": 5,
     "metadata": {},
     "output_type": "execute_result"
    }
   ],
   "source": [
    "a = C*delta**d\n",
    "display(a)\n",
    "sy.simplify(sy.diff(a, delta, 2))"
   ]
  },
  {
   "cell_type": "markdown",
   "metadata": {},
   "source": [
    "Thus: \n",
    "\n",
    "If $d=1$, contribution will always be zero because $(d-1)$ is exactly equal to zero\n",
    "\n",
    "If $d=2$, contribution to $B_3$ will always be $Cd(d-1)$\n",
    "\n",
    "If $d>2$ contribution will always be zero because $0^n=0$"
   ]
  },
  {
   "cell_type": "markdown",
   "metadata": {},
   "source": [
    "## Exponential term"
   ]
  },
  {
   "cell_type": "code",
   "execution_count": 25,
   "metadata": {},
   "outputs": [
    {
     "data": {
      "text/latex": [
       "$\\displaystyle C \\delta^{d} e^{- \\delta^{l}}$"
      ],
      "text/plain": [
       "C*delta**d*exp(-delta**l)"
      ]
     },
     "metadata": {},
     "output_type": "display_data"
    },
    {
     "data": {
      "text/latex": [
       "$\\displaystyle C \\delta^{l - 1} l \\left(\\delta^{l} l - l - 1\\right) e^{- \\delta^{l}}$"
      ],
      "text/plain": [
       "C*delta**(l - 1)*l*(delta**l*l - l - 1)*exp(-delta**l)"
      ]
     },
     "metadata": {},
     "output_type": "display_data"
    },
    {
     "data": {
      "text/latex": [
       "$\\displaystyle C \\left(\\delta^{l} l \\left(\\delta^{l} l - l + 1\\right) - 4 \\delta^{l} l + 2\\right) e^{- \\delta^{l}}$"
      ],
      "text/plain": [
       "C*(delta**l*l*(delta**l*l - l + 1) - 4*delta**l*l + 2)*exp(-delta**l)"
      ]
     },
     "metadata": {},
     "output_type": "display_data"
    },
    {
     "data": {
      "text/latex": [
       "$\\displaystyle C \\delta \\left(\\delta^{l} l \\left(\\delta^{l} l - l + 1\\right) - 6 \\delta^{l} l + 6\\right) e^{- \\delta^{l}}$"
      ],
      "text/plain": [
       "C*delta*(delta**l*l*(delta**l*l - l + 1) - 6*delta**l*l + 6)*exp(-delta**l)"
      ]
     },
     "metadata": {},
     "output_type": "display_data"
    }
   ],
   "source": [
    "a = C*delta**d*sy.exp(-delta**l)\n",
    "display(a)\n",
    "display(sy.simplify(sy.diff(a, delta, 2).subs(d,1)))\n",
    "display(sy.simplify(sy.diff(a, delta, 2).subs(d,2)))\n",
    "display(sy.simplify(sy.diff(a, delta, 2).subs(d,3)))"
   ]
  },
  {
   "cell_type": "markdown",
   "metadata": {},
   "source": [
    "Thus:\n",
    "    \n",
    "If $d=1$: if $l=1$, contribution is $C(-l-1)$, otherwise contribution is zero\n",
    "\n",
    "If $d=2$, contribution is $2C$\n",
    "\n",
    "If $d > 2$, contribution is zero"
   ]
  },
  {
   "cell_type": "markdown",
   "metadata": {},
   "source": [
    "## Gaussian Term"
   ]
  },
  {
   "cell_type": "code",
   "execution_count": 26,
   "metadata": {},
   "outputs": [
    {
     "data": {
      "text/latex": [
       "$\\displaystyle C \\delta^{d} e^{- \\beta \\left(- \\gamma + \\tau\\right)^{2} - \\eta \\left(\\delta - \\epsilon\\right)^{2}}$"
      ],
      "text/plain": [
       "C*delta**d*exp(-beta*(-gamma + tau)**2 - eta*(delta - epsilon)**2)"
      ]
     },
     "metadata": {},
     "output_type": "display_data"
    },
    {
     "data": {
      "text/latex": [
       "$\\displaystyle C \\delta^{d - 2} \\left(- 4 d \\delta \\eta \\left(\\delta - \\epsilon\\right) + d \\left(d - 1\\right) + 2 \\delta^{2} \\eta \\left(2 \\eta \\left(\\delta - \\epsilon\\right)^{2} - 1\\right)\\right) e^{- \\beta \\left(\\gamma - \\tau\\right)^{2} - \\eta \\left(\\delta - \\epsilon\\right)^{2}}$"
      ],
      "text/plain": [
       "C*delta**(d - 2)*(-4*d*delta*eta*(delta - epsilon) + d*(d - 1) + 2*delta**2*eta*(2*eta*(delta - epsilon)**2 - 1))*exp(-beta*(gamma - tau)**2 - eta*(delta - epsilon)**2)"
      ]
     },
     "metadata": {},
     "output_type": "display_data"
    },
    {
     "data": {
      "text/latex": [
       "$\\displaystyle 2 C e^{- \\beta \\left(\\gamma - \\tau\\right)^{2} - \\epsilon^{2} \\eta}$"
      ],
      "text/plain": [
       "2*C*exp(-beta*(gamma - tau)**2 - epsilon**2*eta)"
      ]
     },
     "metadata": {},
     "output_type": "display_data"
    }
   ],
   "source": [
    "eta,epsilon,beta,gamma = sy.symbols('eta,epsilon,beta,gamma')\n",
    "a = C*delta**d*sy.exp(-eta*(delta-epsilon)**2-beta*(tau-gamma)**2)\n",
    "display(a)\n",
    "display(sy.simplify(sy.diff(a, delta, 2)))\n",
    "display(sy.simplify(sy.diff(a, delta, 2).subs(d,2)).subs(delta,0))"
   ]
  },
  {
   "cell_type": "markdown",
   "metadata": {},
   "source": [
    "Thus:\n",
    "\n",
    "If $d=1$, contribution is $C(4\\eta\\epsilon)\\exp(-\\eta(-\\epsilon)^2-\\beta(\\tau-\\gamma)^2)$\n",
    "\n",
    "If $d=2$, contribution is $2C\\exp(-\\eta(-\\epsilon)^2-\\beta(\\tau-\\gamma)^2)$"
   ]
  }
 ],
 "metadata": {
  "kernelspec": {
   "display_name": "Python 3",
   "language": "python",
   "name": "python3"
  },
  "language_info": {
   "codemirror_mode": {
    "name": "ipython",
    "version": 3
   },
   "file_extension": ".py",
   "mimetype": "text/x-python",
   "name": "python",
   "nbconvert_exporter": "python",
   "pygments_lexer": "ipython3",
   "version": "3.7.4"
  }
 },
 "nbformat": 4,
 "nbformat_minor": 2
}
