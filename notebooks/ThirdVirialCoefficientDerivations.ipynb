{
 "cells": [
  {
   "cell_type": "markdown",
   "metadata": {},
   "source": [
    "# Third virial coefficients"
   ]
  },
  {
   "cell_type": "code",
   "execution_count": 59,
   "metadata": {},
   "outputs": [],
   "source": [
    "import sympy as sy\n",
    "n,d,delta,tau,t,C,l,c = sy.symbols('n,d,delta,tau,t,C,l,c')"
   ]
  },
  {
   "cell_type": "markdown",
   "metadata": {},
   "source": [
    "## \"Polynomial\" term"
   ]
  },
  {
   "cell_type": "code",
   "execution_count": 60,
   "metadata": {},
   "outputs": [
    {
     "data": {
      "text/latex": [
       "$\\displaystyle C \\delta^{d}$"
      ],
      "text/plain": [
       "C*delta**d"
      ]
     },
     "metadata": {},
     "output_type": "display_data"
    },
    {
     "data": {
      "text/latex": [
       "$\\displaystyle C d \\delta^{d - 2} \\left(d - 1\\right)$"
      ],
      "text/plain": [
       "C*d*delta**(d - 2)*(d - 1)"
      ]
     },
     "execution_count": 60,
     "metadata": {},
     "output_type": "execute_result"
    }
   ],
   "source": [
    "a = C*delta**d\n",
    "display(a)\n",
    "sy.simplify(sy.diff(a, delta, 2))"
   ]
  },
  {
   "cell_type": "markdown",
   "metadata": {},
   "source": [
    "Thus: \n",
    "\n",
    "If $d=1$, contribution will always be zero because $(d-1)$ is exactly equal to zero, and after two applications of l'Hopital's rule, the limit will be also zero\n",
    "\n",
    "If $d=2$, contribution to $B_3$ will always be $Cd(d-1)$\n",
    "\n",
    "If $d>2$ contribution will always be zero because $0^n=0$"
   ]
  },
  {
   "cell_type": "markdown",
   "metadata": {},
   "source": [
    "## Exponential term"
   ]
  },
  {
   "cell_type": "code",
   "execution_count": 98,
   "metadata": {},
   "outputs": [
    {
     "data": {
      "text/latex": [
       "$\\displaystyle \\delta^{d} n \\tau^{t} e^{- c \\delta^{l}}$"
      ],
      "text/plain": [
       "delta**d*n*tau**t*exp(-c*delta**l)"
      ]
     },
     "metadata": {},
     "output_type": "display_data"
    },
    {
     "data": {
      "text/latex": [
       "$\\displaystyle c \\delta^{l - 1} l n \\tau^{t} \\left(c \\delta^{l} l - l - 1\\right) e^{- c \\delta^{l}}$"
      ],
      "text/plain": [
       "c*delta**(l - 1)*l*n*tau**t*(c*delta**l*l - l - 1)*exp(-c*delta**l)"
      ]
     },
     "metadata": {},
     "output_type": "display_data"
    },
    {
     "data": {
      "text/latex": [
       "$\\displaystyle 2 c n \\tau^{t} \\left(t - 1\\right)$"
      ],
      "text/plain": [
       "2*c*n*tau**t*(t - 1)"
      ]
     },
     "metadata": {},
     "output_type": "display_data"
    },
    {
     "data": {
      "text/latex": [
       "$\\displaystyle n \\tau^{t} \\left(0^{l} c l \\left(0^{l} c l - l + 1\\right) - 4 \\cdot 0^{l} c l + 2\\right) e^{- 0^{l} c}$"
      ],
      "text/plain": [
       "n*tau**t*(0**l*c*l*(0**l*c*l - l + 1) - 4*0**l*c*l + 2)*exp(-0**l*c)"
      ]
     },
     "metadata": {},
     "output_type": "display_data"
    },
    {
     "data": {
      "text/latex": [
       "$\\displaystyle \\delta n \\tau^{t} \\left(c \\delta^{l} l \\left(c \\delta^{l} l - l + 1\\right) - 6 c \\delta^{l} l + 6\\right) e^{- c \\delta^{l}}$"
      ],
      "text/plain": [
       "delta*n*tau**t*(c*delta**l*l*(c*delta**l*l - l + 1) - 6*c*delta**l*l + 6)*exp(-c*delta**l)"
      ]
     },
     "metadata": {},
     "output_type": "display_data"
    }
   ],
   "source": [
    "a = n*tau**t*delta**d*sy.exp(-c*delta**l)\n",
    "display(a)\n",
    "display(sy.simplify(sy.diff(a, delta, 2).subs(d,1)))\n",
    "\n",
    "termd1 = sy.simplify(sy.diff(a, delta, 2).subs(d,1)).subs(l,1).subs(delta,0)\n",
    "frakd1 = sy.simplify(termd1-tau*sy.diff(termd1,tau))\n",
    "display(frakd1)\n",
    "\n",
    "termd2 = sy.simplify(sy.diff(a, delta, 2).subs(d,2).subs(delta,0))\n",
    "display(sy.simplify(termd2))\n",
    "\n",
    "display(sy.simplify(sy.diff(a, delta, 2).subs(d,3)))"
   ]
  },
  {
   "cell_type": "markdown",
   "metadata": {},
   "source": [
    "Thus:\n",
    "    \n",
    "If $d=1$: if $l=1$, contribution is $C(-l-1)$, otherwise contribution is zero\n",
    "\n",
    "If $d=2$, contribution is $2C$\n",
    "\n",
    "If $d > 2$, contribution is zero"
   ]
  },
  {
   "cell_type": "markdown",
   "metadata": {},
   "source": [
    "## Gaussian Term"
   ]
  },
  {
   "cell_type": "code",
   "execution_count": 101,
   "metadata": {},
   "outputs": [
    {
     "data": {
      "text/latex": [
       "$\\displaystyle \\delta^{d} n \\tau^{t} e^{- \\beta \\left(- \\gamma + \\tau\\right)^{2} - \\eta \\left(\\delta - \\epsilon\\right)^{2}}$"
      ],
      "text/plain": [
       "delta**d*n*tau**t*exp(-beta*(-gamma + tau)**2 - eta*(delta - epsilon)**2)"
      ]
     },
     "metadata": {},
     "output_type": "display_data"
    },
    {
     "data": {
      "text/latex": [
       "$\\displaystyle 4 \\epsilon \\eta n \\left(- 2 \\beta \\tau^{t + 1} \\left(\\gamma - \\tau\\right) - t \\tau^{t} + \\tau^{t}\\right) e^{- \\beta \\left(\\gamma - \\tau\\right)^{2} - \\epsilon^{2} \\eta}$"
      ],
      "text/plain": [
       "4*epsilon*eta*n*(-2*beta*tau**(t + 1)*(gamma - tau) - t*tau**t + tau**t)*exp(-beta*(gamma - tau)**2 - epsilon**2*eta)"
      ]
     },
     "metadata": {},
     "output_type": "display_data"
    },
    {
     "data": {
      "text/latex": [
       "$\\displaystyle 2 n \\tau^{t} e^{- \\beta \\left(\\gamma - \\tau\\right)^{2} - \\epsilon^{2} \\eta}$"
      ],
      "text/plain": [
       "2*n*tau**t*exp(-beta*(gamma - tau)**2 - epsilon**2*eta)"
      ]
     },
     "metadata": {},
     "output_type": "display_data"
    }
   ],
   "source": [
    "eta,epsilon,beta,gamma = sy.symbols('eta,epsilon,beta,gamma')\n",
    "a = n*tau**t*delta**d*sy.exp(-eta*(delta-epsilon)**2-beta*(tau-gamma)**2)\n",
    "display(a)\n",
    "\n",
    "termd1 = sy.simplify(sy.diff(a, delta, 2).subs(d,1)).subs(delta,0)\n",
    "frakd1 = sy.simplify(termd1-tau*sy.diff(termd1,tau))\n",
    "display(frakd1)\n",
    "#print(frakd1)\n",
    "\n",
    "display(sy.simplify(sy.diff(a, delta, 2).subs(d,2)).subs(delta,0))"
   ]
  },
  {
   "cell_type": "markdown",
   "metadata": {},
   "source": [
    "Thus:\n",
    "\n",
    "If $d=1$, contribution is $C(4\\eta\\epsilon)\\exp(-\\eta(-\\epsilon)^2-\\beta(\\tau-\\gamma)^2)$\n",
    "\n",
    "If $d=2$, contribution is $2C\\exp(-\\eta(-\\epsilon)^2-\\beta(\\tau-\\gamma)^2)$"
   ]
  },
  {
   "cell_type": "markdown",
   "metadata": {},
   "source": [
    "# Generalized Treatment"
   ]
  },
  {
   "cell_type": "code",
   "execution_count": 100,
   "metadata": {},
   "outputs": [
    {
     "data": {
      "text/plain": [
       "'d=2:'"
      ]
     },
     "metadata": {},
     "output_type": "display_data"
    },
    {
     "data": {
      "text/latex": [
       "$\\displaystyle - 2 n_{k} \\left(2 \\beta_{k} \\tau^{t_{k} + 1} \\left(\\gamma_{k} - \\tau\\right) + t_{k} \\tau^{t_{k}} - \\tau^{t_{k}}\\right) e^{- \\beta_{k} \\left(- \\gamma_{k} + \\tau\\right)^{2} - \\epsilon_{k}^{2} \\eta_{k}}$"
      ],
      "text/plain": [
       "-2*n_k*(2*beta_k*tau**(t_k + 1)*(gamma_k - tau) + t_k*tau**t_k - tau**t_k)*exp(-beta_k*(-gamma_k + tau)**2 - epsilon_k**2*eta_k)"
      ]
     },
     "metadata": {},
     "output_type": "display_data"
    }
   ],
   "source": [
    "import sympy as sy\n",
    "n_k,d_k,t_k = sy.symbols('n_k,d_k,t_k')\n",
    "c_k,l_k,beta_k,gamma_k,eta_k,epsilon_k = sy.symbols('c_k,l_k,beta_k,gamma_k,eta_k,epsilon_k')\n",
    "l_k = sy.symbols('l_k',positive=True)\n",
    "u_k = -beta_k*(tau-gamma_k)**2 - eta_k*(delta-epsilon_k)**2 -c_k*delta**l_k\n",
    "alphark = n_k*delta**d_k*tau**t_k*sy.exp(u_k)\n",
    "\n",
    "termd2 = sy.simplify(sy.diff(alphark, delta, 2).subs(d_k,2))\n",
    "frakB3term = sy.simplify(sy.simplify(termd2-tau*sy.diff(termd2, tau)).subs(delta,0))\n",
    "display('d=2:', frakB3term)"
   ]
  },
  {
   "cell_type": "code",
   "execution_count": null,
   "metadata": {},
   "outputs": [],
   "source": []
  }
 ],
 "metadata": {
  "kernelspec": {
   "display_name": "Python 3",
   "language": "python",
   "name": "python3"
  },
  "language_info": {
   "codemirror_mode": {
    "name": "ipython",
    "version": 3
   },
   "file_extension": ".py",
   "mimetype": "text/x-python",
   "name": "python",
   "nbconvert_exporter": "python",
   "pygments_lexer": "ipython3",
   "version": "3.7.5"
  }
 },
 "nbformat": 4,
 "nbformat_minor": 2
}
